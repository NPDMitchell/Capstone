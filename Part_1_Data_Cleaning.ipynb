{
 "cells": [
  {
   "cell_type": "markdown",
   "metadata": {},
   "source": [
    "## Data Cleaning\n",
    "The original data I was hoping to work with was from a vineyard in the Barossa Valley, South Australia. I had access to an onsite weather station and soil moisture readings from one block in the vineyard.\n",
    "\n",
    "I hit a hard spot when I found out that soil water was only a small part of the scheduling of irrigation. Plant water needs varied greatly based on what stage of the growth cycle the plant was in, and there was no data available to indicate where the vine was in its growth.\n",
    "\n",
    "Not wanting to leave the project, I looked for soil water data for other sites and crops but again came up short. Finally I found that I could generate the required data from an agricultural crop simulator called APSIM, a widely used and respected tool in the agriculture industry. \n",
    "\n",
    "I sourced soil information from 5 sites around Bendigo in central Victoria. All are of similar soil type (Clay Loam) but have different soil depths and water holding capacity.\n",
    "\n",
    "The data is very clean as it is the product of a simulator. The actual historical weather data was obtained for the sites and input that into APSIM, which ran a simulation for the specified times to obtain available soil water data."
   ]
  },
  {
   "cell_type": "code",
   "execution_count": 1,
   "metadata": {},
   "outputs": [],
   "source": [
    "import pandas as pd\n",
    "import numpy as np\n",
    "import datetime as dt"
   ]
  },
  {
   "cell_type": "code",
   "execution_count": 2,
   "metadata": {},
   "outputs": [],
   "source": [
    "b524 = pd.read_csv('Data/524_generic.csv')\n",
    "b552 = pd.read_csv('Data/552_yp.csv')\n",
    "b567 = pd.read_csv('Data/567.csv')\n",
    "b577 = pd.read_csv('Data/577.csv')\n",
    "b736 = pd.read_csv('Data/736.csv')"
   ]
  },
  {
   "cell_type": "markdown",
   "metadata": {},
   "source": [
    "The second row in each dataframe is a description of the unit of measurement fro each column. These will be removed."
   ]
  },
  {
   "cell_type": "code",
   "execution_count": 3,
   "metadata": {},
   "outputs": [],
   "source": [
    "b524= b524.iloc[1:, :]\n",
    "b552= b552.iloc[1:, :]\n",
    "b567= b567.iloc[1:, :]\n",
    "b577= b577.iloc[1:, :]\n",
    "b736= b736.iloc[1:, :]"
   ]
  },
  {
   "cell_type": "markdown",
   "metadata": {},
   "source": [
    "The 'Date' column needs to be converted to type 'DateTime', and all other coumns to type 'Float'."
   ]
  },
  {
   "cell_type": "code",
   "execution_count": 4,
   "metadata": {},
   "outputs": [],
   "source": [
    "b524['Date'] =  pd.to_datetime(b524['Date'])\n",
    "b552['Date'] =  pd.to_datetime(b552['Date'])\n",
    "b567['Date'] =  pd.to_datetime(b567['Date'])\n",
    "b577['Date'] =  pd.to_datetime(b577['Date'])\n",
    "b736['Date'] =  pd.to_datetime(b736['Date'])"
   ]
  },
  {
   "cell_type": "code",
   "execution_count": 5,
   "metadata": {},
   "outputs": [],
   "source": [
    "b567.esw = b567.esw.astype(float)\n",
    "b567.MaxT = b567.MaxT.astype(float)\n",
    "b567.MinT = b567.MinT.astype(float)\n",
    "b567.Radn = b567.Radn.astype(float)\n",
    "b567.Rain = b567.Rain.astype(float)\n",
    "b567.es = b567.es.astype(float)\n",
    "b567['sws(1)'] = b567['sws(1)'].astype(float)\n",
    "b567['sws(2)'] = b567['sws(2)'].astype(float)\n",
    "b567['sws(3)'] = b567['sws(3)'].astype(float)\n",
    "b567['sws(4)'] = b567['sws(4)'].astype(float)\n",
    "b567['sws(5)'] = b567['sws(5)'].astype(float)\n",
    "b567['sws(6)'] = b567['sws(6)'].astype(float)\n",
    "\n",
    "b577.esw = b577.esw.astype(float)\n",
    "b577.MaxT = b577.MaxT.astype(float)\n",
    "b577.MinT = b577.MinT.astype(float)\n",
    "b577.Radn = b577.Radn.astype(float)\n",
    "b577.Rain = b577.Rain.astype(float)\n",
    "b577.es = b577.es.astype(float)\n",
    "b577['sws(1)'] = b577['sws(1)'].astype(float)\n",
    "b577['sws(2)'] = b577['sws(2)'].astype(float)\n",
    "b577['sws(3)'] = b577['sws(3)'].astype(float)\n",
    "b577['sws(4)'] = b577['sws(4)'].astype(float)\n",
    "b577['sws(5)'] = b577['sws(5)'].astype(float)\n",
    "b577['sws(6)'] = b577['sws(6)'].astype(float)\n",
    "\n",
    "b524.esw = b524.esw.astype(float)\n",
    "b524.MaxT = b524.MaxT.astype(float)\n",
    "b524.MinT = b524.MinT.astype(float)\n",
    "b524.Radn = b524.Radn.astype(float)\n",
    "b524.Rain = b524.Rain.astype(float)\n",
    "b524.es = b524.es.astype(float)\n",
    "b524['sws(1)'] = b524['sws(1)'].astype(float)\n",
    "b524['sws(2)'] = b524['sws(2)'].astype(float)\n",
    "b524['sws(3)'] = b524['sws(3)'].astype(float)\n",
    "b524['sws(4)'] = b524['sws(4)'].astype(float)\n",
    "b524['sws(5)'] = b524['sws(5)'].astype(float)\n",
    "b524['sws(6)'] = b524['sws(6)'].astype(float)\n",
    "b524['sws(7)'] = b524['sws(7)'].astype(float)\n",
    "b524['sws(8)'] = b524['sws(8)'].astype(float)\n",
    "\n",
    "b552.esw = b552.esw.astype(float)\n",
    "b552.MaxT = b552.MaxT.astype(float)\n",
    "b552.MinT = b552.MinT.astype(float)\n",
    "b552.Radn = b552.Radn.astype(float)\n",
    "b552.Rain = b552.Rain.astype(float)\n",
    "b552.es = b552.es.astype(float)\n",
    "b552['sws(1)'] = b552['sws(1)'].astype(float)\n",
    "b552['sws(2)'] = b552['sws(2)'].astype(float)\n",
    "b552['sws(3)'] = b552['sws(3)'].astype(float)\n",
    "b552['sws(4)'] = b552['sws(4)'].astype(float)\n",
    "\n",
    "b736.esw = b736.esw.astype(float)\n",
    "b736.MaxT = b736.MaxT.astype(float)\n",
    "b736.MinT = b736.MinT.astype(float)\n",
    "b736.Radn = b736.Radn.astype(float)\n",
    "b736.Rain = b736.Rain.astype(float)\n",
    "b736.es = b736.es.astype(float)\n",
    "b736['sws(1)'] = b736['sws(1)'].astype(float)\n",
    "b736['sws(2)'] = b736['sws(2)'].astype(float)\n",
    "b736['sws(3)'] = b736['sws(3)'].astype(float)\n",
    "b736['sws(4)'] = b736['sws(4)'].astype(float)\n",
    "b736['sws(5)'] = b736['sws(5)'].astype(float)\n",
    "b736['sws(6)'] = b736['sws(6)'].astype(float)\n",
    "b736['sws(7)'] = b736['sws(7)'].astype(float)\n",
    "b736['sws(8)'] = b736['sws(8)'].astype(float)"
   ]
  },
  {
   "cell_type": "code",
   "execution_count": 6,
   "metadata": {},
   "outputs": [
    {
     "name": "stdout",
     "output_type": "stream",
     "text": [
      "<class 'pandas.core.frame.DataFrame'>\n",
      "RangeIndex: 2192 entries, 1 to 2192\n",
      "Data columns (total 13 columns):\n",
      "Date      2192 non-null datetime64[ns]\n",
      "esw       2192 non-null float64\n",
      "MaxT      2192 non-null float64\n",
      "MinT      2192 non-null float64\n",
      "Radn      2192 non-null float64\n",
      "Rain      2192 non-null float64\n",
      "es        2192 non-null float64\n",
      "sws(1)    2192 non-null float64\n",
      "sws(2)    2192 non-null float64\n",
      "sws(3)    2192 non-null float64\n",
      "sws(4)    2192 non-null float64\n",
      "sws(5)    2192 non-null float64\n",
      "sws(6)    2192 non-null float64\n",
      "dtypes: datetime64[ns](1), float64(12)\n",
      "memory usage: 222.7 KB\n"
     ]
    }
   ],
   "source": [
    "b567.info()"
   ]
  },
  {
   "cell_type": "code",
   "execution_count": 7,
   "metadata": {},
   "outputs": [],
   "source": [
    "b524.sort_index();\n",
    "b552.sort_index();\n",
    "b567.sort_index();\n",
    "b577.sort_index();\n",
    "b736.sort_index();"
   ]
  },
  {
   "cell_type": "markdown",
   "metadata": {},
   "source": [
    "Divide the dataframes into training and testing sets.\n",
    "\n",
    "The training data will be from January 1st, 2010 until December 31st, 2016.\n",
    "\n",
    "The test data will be from January 1st, 2010 until December 31st, 2017."
   ]
  },
  {
   "cell_type": "code",
   "execution_count": 8,
   "metadata": {},
   "outputs": [],
   "source": [
    "mask = (b567['Date'] >= '2010-1-1') & (b567['Date'] <= '2016-12-31')\n",
    "b567_train = b567.loc[mask]\n",
    "\n",
    "mask2 = (b567['Date'] >= '2017-1-1') & (b567['Date'] <= '2017-12-31')\n",
    "b567_test = b567.loc[mask2]\n",
    "\n",
    "mask3 = (b577['Date'] >= '2010-1-1') & (b577['Date'] <= '2016-12-31')\n",
    "b577_train = b577.loc[mask3]\n",
    "\n",
    "mask4 = (b577['Date'] >= '2017-1-1') & (b577['Date'] <= '2017-12-31')\n",
    "b577_test = b577.loc[mask4]\n",
    "\n",
    "mask5 = (b524['Date'] >= '2010-1-1') & (b524['Date'] <= '2016-12-31')\n",
    "b524_train = b524.loc[mask5]\n",
    "\n",
    "mask6 = (b524['Date'] >= '2017-1-1') & (b524['Date'] <= '2017-12-31')\n",
    "b524_test = b524.loc[mask6]\n",
    "\n",
    "mask7 = (b552['Date'] >= '2010-1-1') & (b552['Date'] <= '2016-12-31')\n",
    "b552_train = b552.loc[mask7]\n",
    "\n",
    "mask8 = (b552['Date'] >= '2017-1-1') & (b552['Date'] <= '2017-12-31')\n",
    "b552_test = b552.loc[mask8]\n",
    "\n",
    "mask9 = (b736['Date'] >= '2010-1-1') & (b736['Date'] <= '2016-12-31')\n",
    "b736_train = b736.loc[mask9]\n",
    "\n",
    "mask10 = (b736['Date'] >= '2017-1-1') & (b736['Date'] <= '2017-12-31')\n",
    "b736_test = b736.loc[mask10]"
   ]
  },
  {
   "cell_type": "markdown",
   "metadata": {},
   "source": [
    "Output these dataframes to csv files for future use"
   ]
  },
  {
   "cell_type": "code",
   "execution_count": 9,
   "metadata": {},
   "outputs": [],
   "source": [
    "b524_test.to_csv('b524_test.csv', index=False)\n",
    "b524_train.to_csv('b524_train.csv', index=False)\n",
    "b552_test.to_csv('b552_test.csv', index=False)\n",
    "b552_train.to_csv('b552_train.csv', index=False)\n",
    "b567_test.to_csv('b567_test.csv', index=False)\n",
    "b567_train.to_csv('b567_train.csv', index=False)\n",
    "b577_test.to_csv('b577_test.csv', index=False)\n",
    "b577_train.to_csv('b577_train.csv', index=False)\n",
    "b736_test.to_csv('b736_test.csv', index=False)\n",
    "b736_train.to_csv('b736_train.csv', index=False)"
   ]
  },
  {
   "cell_type": "code",
   "execution_count": null,
   "metadata": {},
   "outputs": [],
   "source": []
  }
 ],
 "metadata": {
  "kernelspec": {
   "display_name": "Python 3",
   "language": "python",
   "name": "python3"
  },
  "language_info": {
   "codemirror_mode": {
    "name": "ipython",
    "version": 3
   },
   "file_extension": ".py",
   "mimetype": "text/x-python",
   "name": "python",
   "nbconvert_exporter": "python",
   "pygments_lexer": "ipython3",
   "version": "3.7.1"
  }
 },
 "nbformat": 4,
 "nbformat_minor": 2
}
