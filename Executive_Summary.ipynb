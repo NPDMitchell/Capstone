{
 "cells": [
  {
   "cell_type": "markdown",
   "metadata": {},
   "source": [
    "## EXECUTIVE SUMMARY\n",
    "\n",
    "I set out to create a predictive model that was able to predict the available soil water in agricultural crops. Having an accurate predicter can help reduce the human error in irrigation scheduling. The environmental and economic benefits of incremental improvements are immense in a changing world where water supplies are already depleted from many different factors such as climate change and increasing populations.\n",
    "\n",
    "Irrigation scheduling is done by using climatic and soil variables to determine plant water needs. If I am able to accurately forecast soil moisture levels a few days into the future, irrigation scheduling can be done proactively and not reactionary. The benefits of this are that it avoids putting the crop under unnecessary stress from watering too late and also preventing early watering that the crop has no need for.\n",
    "\n",
    "The success of this model will be measured by root mean squared error, and I will be aiming at achieving an error less than 20. This means that even if the model is not perfect, there should not be any incidents where irrigation would be scheduled too late and allowing the plants fall into a state of water stress.\n",
    "\n",
    "The test sets scored very well, with RMSE values ranging from 9.93 to 11.07 for the three different train test splits. The model actually scored better when completely new data was input into the model.\n",
    "\n",
    "The model seems to predicting extremely well, and is delivering good results for different sites. The next step would be to test it on sites that are of a different soil type and see if it could still provide an accurate prediction of available soil water."
   ]
  },
  {
   "cell_type": "markdown",
   "metadata": {},
   "source": [
    "## WHAT NEXT\n",
    "\n",
    "This is just the first part of what I am hoping to build. Being able to accurately predict the available soil water now needs to be used in conjuction with the growth cycles of an actual crop to see if we can indeed forecast the need for irrigation before someone would manually do it.\n",
    "\n",
    "The next step is using the predictions with weather forecasts to see when the soil moisture levels drop to a point where they need to be refilled specific to the stage in the plant growth cycle.\n",
    "\n",
    "If this step is able to be completed, then I will look into image processing to see if we can classify the stage in growth cycle of the particular crop to get one step closer to full automation."
   ]
  }
 ],
 "metadata": {
  "kernelspec": {
   "display_name": "Python 3",
   "language": "python",
   "name": "python3"
  },
  "language_info": {
   "codemirror_mode": {
    "name": "ipython",
    "version": 3
   },
   "file_extension": ".py",
   "mimetype": "text/x-python",
   "name": "python",
   "nbconvert_exporter": "python",
   "pygments_lexer": "ipython3",
   "version": "3.7.1"
  }
 },
 "nbformat": 4,
 "nbformat_minor": 2
}
